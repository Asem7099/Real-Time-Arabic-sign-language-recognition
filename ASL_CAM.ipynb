{
 "cells": [
  {
   "cell_type": "code",
   "execution_count": 1,
   "id": "0987d48f",
   "metadata": {},
   "outputs": [],
   "source": [
    "import cv2\n",
    "import mediapipe as mp \n",
    "import joblib\n",
    "import numpy as np \n",
    "import pyttsx3"
   ]
  },
  {
   "cell_type": "code",
   "execution_count": 2,
   "id": "8c63e377",
   "metadata": {},
   "outputs": [],
   "source": [
    "string =''\n",
    "out=''"
   ]
  },
  {
   "cell_type": "code",
   "execution_count": 5,
   "id": "42c6e83b",
   "metadata": {},
   "outputs": [],
   "source": [
    "mp_hands = mp.solutions.hands\n",
    "mp_drawing = mp.solutions.drawing_utils\n",
    "\n",
    "\n",
    "# For webcam input\n",
    "hands = mp_hands.Hands(max_num_hands=1,static_image_mode=False,min_detection_confidence=0.7)\n",
    "\n",
    "cap = cv2.VideoCapture(0)\n",
    "\n",
    "def data_clean(landmark):\n",
    "    data = landmark[0]\n",
    "    data = str(data)\n",
    "    data = data.strip().split('\\n')\n",
    "   \n",
    "    garbage = ['landmark {', '}']\n",
    "    \n",
    "    landmarks = []\n",
    "\n",
    "    for i in data:\n",
    "        if i not in garbage:\n",
    "            landmarks.append(i)\n",
    "            \n",
    "    clean = []\n",
    "    for i in landmarks:\n",
    "        i = i.strip()\n",
    "        clean.append(i[2:])\n",
    "        \n",
    "    finalClean = [ ]\n",
    "    for i in range(0, len(clean)):\n",
    "            if (i+1) % 3 != 0:\n",
    "                finalClean.append(float(clean[i]))\n",
    "            \n",
    "    return([finalClean])\n",
    "  "
   ]
  },
  {
   "cell_type": "code",
   "execution_count": 6,
   "id": "e53a8330",
   "metadata": {},
   "outputs": [],
   "source": [
    "while cap.isOpened():\n",
    "  success, image = cap.read()\n",
    "  \n",
    "  image = cv2.flip(image, 1)\n",
    "  \n",
    "  if not success:\n",
    "    break\n",
    "\n",
    "  # Flip the image horizontally for a later selfie-view display, and convert\n",
    "  # the BGR image to RGB.\n",
    "  image = cv2.cvtColor(image, cv2.COLOR_BGR2RGB)\n",
    "  # To improve performance, optionally mark the image as not writeable to\n",
    "  # pass by reference.\n",
    "  image.flags.writeable = False\n",
    "  results = hands.process(image)\n",
    "  # Draw the hand annotations on the image.\n",
    "  image.flags.writeable = True\n",
    "  \n",
    "  image = cv2.cvtColor(image, cv2.COLOR_RGB2BGR)\n",
    "\n",
    "  if results.multi_hand_landmarks:\n",
    "    for hand_landmarks in results.multi_hand_landmarks:\n",
    "      mp_drawing.draw_landmarks(image, hand_landmarks, mp_hands.HAND_CONNECTIONS)\n",
    "\n",
    "    cleaned_landmark = data_clean(results.multi_hand_landmarks)\n",
    "\n",
    "    if cleaned_landmark:\n",
    "      clf = joblib.load('RF_Model.pkl')\n",
    "      y_pred = clf.predict(cleaned_landmark)\n",
    "      image = cv2.putText(image, str(y_pred[0]), (22,150), cv2.FONT_HERSHEY_SIMPLEX,  2, (0,0,255), 2, cv2.LINE_AA) \n",
    "      out=str(y_pred[0])  \n",
    "    \n",
    "  font = cv2.FONT_HERSHEY_SIMPLEX  \n",
    "  cv2.putText(image,\"Word:\", (22,34), font, 1, (0,255,0), 2, cv2.LINE_AA)\n",
    "  cv2.putText(image,string, (22,64), font, 1, (0,255,0), 1, cv2.LINE_AA)\n",
    "  cv2.putText(image,\"S: Add  D: Delete  Esc: Quit\", (22,470), font, 1, (255,100,100), 2, cv2.LINE_AA)  \n",
    "  cv2.imshow('MediaPipe Hands', image) \n",
    "  \n",
    "  \n",
    "  key = cv2.waitKey(1)  \n",
    "    \n",
    "  if key== ord('s'):\n",
    "    string = string+\"\"+out \n",
    "    \n",
    "  if key== ord('d'):\n",
    "    string=string[:-1]  \n",
    "        \n",
    "  if key== 32:\n",
    "    \n",
    "    string = string+\" \";      \n",
    "        \n",
    "  if key== 27:\n",
    "    break\n",
    "\n",
    "hands.close()\n",
    "cap.release()\n",
    "cv2.destroyAllWindows()"
   ]
  },
  {
   "cell_type": "code",
   "execution_count": 7,
   "id": "866dd98c",
   "metadata": {},
   "outputs": [
    {
     "name": "stdout",
     "output_type": "stream",
     "text": [
      "\n"
     ]
    }
   ],
   "source": [
    "print(string)"
   ]
  },
  {
   "cell_type": "code",
   "execution_count": 8,
   "id": "a7a18fbf",
   "metadata": {},
   "outputs": [],
   "source": [
    "engine = pyttsx3.init()\n",
    "engine.say(string)\n",
    "engine.runAndWait()"
   ]
  },
  {
   "cell_type": "code",
   "execution_count": null,
   "id": "92030050",
   "metadata": {},
   "outputs": [],
   "source": []
  }
 ],
 "metadata": {
  "hide_input": false,
  "kernelspec": {
   "display_name": "Python 3",
   "language": "python",
   "name": "python3"
  },
  "language_info": {
   "codemirror_mode": {
    "name": "ipython",
    "version": 3
   },
   "file_extension": ".py",
   "mimetype": "text/x-python",
   "name": "python",
   "nbconvert_exporter": "python",
   "pygments_lexer": "ipython3",
   "version": "3.8.8"
  }
 },
 "nbformat": 4,
 "nbformat_minor": 5
}
